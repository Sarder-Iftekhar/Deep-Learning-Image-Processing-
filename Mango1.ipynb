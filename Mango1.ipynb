{
  "nbformat": 4,
  "nbformat_minor": 0,
  "metadata": {
    "accelerator": "GPU",
    "colab": {
      "name": "Mango1",
      "provenance": [],
      "collapsed_sections": []
    },
    "kernelspec": {
      "display_name": "Python 3",
      "name": "python3"
    },
    "language_info": {
      "name": "python"
    }
  },
  "cells": [
    {
      "cell_type": "code",
      "metadata": {
        "id": "Uwfbs0hxPEja"
      },
      "source": [
        "import tensorflow as tf\n",
        "import numpy as np\n"
      ],
      "execution_count": null,
      "outputs": []
    },
    {
      "cell_type": "code",
      "metadata": {
        "colab": {
          "base_uri": "https://localhost:8080/"
        },
        "id": "29_YroWR2IUq",
        "outputId": "02c38da4-a4a6-4875-8954-5508630ed0d0"
      },
      "source": [
        "from google.colab import drive\n",
        "drive.mount('/content/drive/')"
      ],
      "execution_count": null,
      "outputs": [
        {
          "name": "stdout",
          "output_type": "stream",
          "text": [
            "Drive already mounted at /content/drive/; to attempt to forcibly remount, call drive.mount(\"/content/drive/\", force_remount=True).\n"
          ]
        }
      ]
    },
    {
      "cell_type": "code",
      "metadata": {
        "id": "DMJbj7fX1Tiw"
      },
      "source": [
        "pip install -q keras"
      ],
      "execution_count": null,
      "outputs": []
    },
    {
      "cell_type": "code",
      "metadata": {
        "id": "EmvS2zSD1g9K"
      },
      "source": [
        "import keras"
      ],
      "execution_count": null,
      "outputs": []
    },
    {
      "cell_type": "code",
      "metadata": {
        "id": "2xZZzrXy7A5l"
      },
      "source": [
        "base_dir =  '/content/drive/MyDrive/MnagoLeaf1/BaseDirectoryForCNNModel'"
      ],
      "execution_count": null,
      "outputs": []
    },
    {
      "cell_type": "markdown",
      "metadata": {
        "id": "zckrxmM-RpbG"
      },
      "source": [
        "#Image Preprocessing"
      ]
    },
    {
      "cell_type": "code",
      "metadata": {
        "colab": {
          "base_uri": "https://localhost:8080/"
        },
        "id": "NGbkGAooRlM2",
        "outputId": "d0f20e9c-1f1e-4d99-9f28-62ce4570c95d"
      },
      "source": [
        "IMAZE_SIZE = 224\n",
        "BATCH_SIZE = 16\n",
        "\n",
        "\n",
        "train_datagen = tf.keras.preprocessing.image.ImageDataGenerator(\n",
        "    rescale=1./255,\n",
        "    shear_range=0.2,\n",
        "     zoom_range=0.2,\n",
        "     rotation_range =40,\n",
        "     height_shift_range =0.2,\n",
        "     width_shift_range=0.2,\n",
        "     brightness_range=[0.2,1.0],\n",
        "     channel_shift_range=0.0,\n",
        "    horizontal_flip=True,\n",
        "    vertical_flip=True,\n",
        "    fill_mode='nearest',\n",
        "    validation_split=0.3)\n",
        "\n",
        "\n",
        "\n",
        "\n",
        "train_set =train_datagen.flow_from_directory(\n",
        "    base_dir,\n",
        "    target_size = (224,224),\n",
        "    batch_size = BATCH_SIZE,\n",
        "    subset = 'training',\n",
        "     class_mode='categorical'\n",
        "  \n",
        "   \n",
        "     \n",
        ")\n",
        "\n",
        "\n",
        "test_datagen =  tf.keras.preprocessing.image.ImageDataGenerator(\n",
        "    rescale=1./255,\n",
        "    validation_split=0.3)\n",
        "\n",
        "\n",
        "\n",
        "test_set = test_datagen.flow_from_directory(\n",
        "    base_dir,\n",
        "    target_size = (224,224),\n",
        "    batch_size=BATCH_SIZE,\n",
        "    subset = 'validation',\n",
        "    class_mode='categorical'\n",
        ")"
      ],
      "execution_count": null,
      "outputs": [
        {
          "name": "stdout",
          "output_type": "stream",
          "text": [
            "Found 1655 images belonging to 4 classes.\n",
            "Found 706 images belonging to 4 classes.\n"
          ]
        }
      ]
    },
    {
      "cell_type": "markdown",
      "metadata": {
        "id": "ip4mdOMR_RrP"
      },
      "source": [
        "# CNN **MODEL**"
      ]
    },
    {
      "cell_type": "code",
      "metadata": {
        "id": "KGhcACDMVAwF"
      },
      "source": [
        "cnn = tf.keras.Sequential()\n",
        "cnn.add(tf.keras.layers.Conv2D(filters=32,padding='same',strides=1,kernel_size=2,activation='relu',input_shape=(224,224,3)))\n",
        "cnn.add(tf.keras.layers.MaxPool2D(pool_size =2,strides  = 1))\n",
        "cnn.add(tf.keras.layers.Conv2D(filters=64,padding='same',strides=1,kernel_size=2,activation='relu'))\n",
        "cnn.add(tf.keras.layers.MaxPool2D(pool_size = 2,strides  = 1))\n",
        "cnn.add(tf.keras.layers.Conv2D(filters=64,padding='same',strides=1,kernel_size=2,activation='relu'))\n",
        "cnn.add(tf.keras.layers.Flatten())                      \n",
        "cnn.add(tf.keras.layers.Dense(4,activation='softmax')) \n",
        "\n"
      ],
      "execution_count": null,
      "outputs": []
    },
    {
      "cell_type": "markdown",
      "metadata": {
        "id": "heDMqX9SWCfV"
      },
      "source": [
        "**Compile**\n"
      ]
    },
    {
      "cell_type": "code",
      "metadata": {
        "id": "iNXhaQRUWMr9"
      },
      "source": [
        "cnn.compile(tf.keras.optimizers.Adam(),loss=\"categorical_crossentropy\",metrics=['accuracy'])"
      ],
      "execution_count": null,
      "outputs": []
    },
    {
      "cell_type": "code",
      "metadata": {
        "id": "-6ZbOqlP6kNN"
      },
      "source": [
        ""
      ],
      "execution_count": null,
      "outputs": []
    },
    {
      "cell_type": "code",
      "metadata": {
        "colab": {
          "background_save": true,
          "base_uri": "https://localhost:8080/"
        },
        "id": "pswBC40I9QJZ",
        "outputId": "237271d7-742e-429d-f1ef-1c4160451f0e"
      },
      "source": [
        "\n",
        "history=cnn.fit(train_set,epochs=20,steps_per_epoch=1655/16,validation_data=test_set,batch_size=BATCH_SIZE,validation_steps=706/16,verbose = 1)\n"
      ],
      "execution_count": null,
      "outputs": [
        {
          "name": "stdout",
          "output_type": "stream",
          "text": [
            "Epoch 1/20\n",
            "103/103 [==============================] - 75s 389ms/step - loss: 4.9266 - accuracy: 0.6205 - val_loss: 0.8280 - val_accuracy: 0.7833\n",
            "Epoch 2/20\n",
            "103/103 [==============================] - 39s 375ms/step - loss: 0.3801 - accuracy: 0.8979 - val_loss: 0.4687 - val_accuracy: 0.8739\n",
            "Epoch 3/20\n",
            "103/103 [==============================] - 39s 375ms/step - loss: 0.3361 - accuracy: 0.9033 - val_loss: 0.3623 - val_accuracy: 0.9136\n",
            "Epoch 4/20\n",
            "103/103 [==============================] - 39s 374ms/step - loss: 0.2518 - accuracy: 0.9148 - val_loss: 0.4704 - val_accuracy: 0.8966\n",
            "Epoch 5/20\n",
            "103/103 [==============================] - 39s 375ms/step - loss: 0.1797 - accuracy: 0.9462 - val_loss: 0.7135 - val_accuracy: 0.8598\n",
            "Epoch 6/20\n",
            "103/103 [==============================] - 39s 373ms/step - loss: 0.1083 - accuracy: 0.9722 - val_loss: 1.3012 - val_accuracy: 0.7663\n",
            "Epoch 7/20\n",
            "103/103 [==============================] - 39s 373ms/step - loss: 0.1315 - accuracy: 0.9631 - val_loss: 0.3923 - val_accuracy: 0.9207\n",
            "Epoch 8/20\n",
            "103/103 [==============================] - 38s 370ms/step - loss: 0.1472 - accuracy: 0.9595 - val_loss: 0.4306 - val_accuracy: 0.9136\n",
            "Epoch 9/20\n",
            "103/103 [==============================] - 38s 370ms/step - loss: 0.1555 - accuracy: 0.9529 - val_loss: 0.7062 - val_accuracy: 0.8909\n",
            "Epoch 10/20\n",
            "103/103 [==============================] - 38s 369ms/step - loss: 0.1759 - accuracy: 0.9498 - val_loss: 1.1156 - val_accuracy: 0.8725\n",
            "Epoch 11/20\n",
            "103/103 [==============================] - 38s 369ms/step - loss: 0.1018 - accuracy: 0.9674 - val_loss: 1.2118 - val_accuracy: 0.8428\n",
            "Epoch 12/20\n",
            "103/103 [==============================] - 38s 369ms/step - loss: 0.1034 - accuracy: 0.9662 - val_loss: 0.6320 - val_accuracy: 0.8768\n",
            "Epoch 13/20\n",
            "103/103 [==============================] - 38s 370ms/step - loss: 0.1084 - accuracy: 0.9656 - val_loss: 1.1944 - val_accuracy: 0.8640\n",
            "Epoch 14/20\n",
            "103/103 [==============================] - 38s 370ms/step - loss: 0.0845 - accuracy: 0.9764 - val_loss: 1.1289 - val_accuracy: 0.8640\n",
            "Epoch 15/20\n",
            "103/103 [==============================] - 38s 369ms/step - loss: 0.0933 - accuracy: 0.9746 - val_loss: 1.3448 - val_accuracy: 0.8385\n",
            "Epoch 16/20\n",
            "103/103 [==============================] - 38s 367ms/step - loss: 0.1059 - accuracy: 0.9704 - val_loss: 1.1851 - val_accuracy: 0.8215\n",
            "Epoch 17/20\n",
            "103/103 [==============================] - 38s 369ms/step - loss: 0.1204 - accuracy: 0.9607 - val_loss: 0.9794 - val_accuracy: 0.8711\n",
            "Epoch 18/20\n",
            "103/103 [==============================] - 38s 368ms/step - loss: 0.1289 - accuracy: 0.9662 - val_loss: 0.8762 - val_accuracy: 0.8399\n",
            "Epoch 19/20\n",
            "103/103 [==============================] - 38s 367ms/step - loss: 0.1140 - accuracy: 0.9704 - val_loss: 0.5663 - val_accuracy: 0.8867\n",
            "Epoch 20/20\n",
            "103/103 [==============================] - 38s 367ms/step - loss: 0.0617 - accuracy: 0.9801 - val_loss: 1.1527 - val_accuracy: 0.8499\n"
          ]
        }
      ]
    },
    {
      "cell_type": "markdown",
      "metadata": {
        "id": "8pjcTdvWBmiP"
      },
      "source": [
        "# ***Prediction On Single Imagge***"
      ]
    },
    {
      "cell_type": "code",
      "metadata": {
        "colab": {
          "background_save": true
        },
        "id": "tzLOiJKG9bGP"
      },
      "source": [
        "from keras.preprocessing import image\n",
        "test_image = image.load_img('/content/drive/MyDrive/MnagoLeaf1/BaseDirectoryForCNNModel/Red Rust/20211011_132640 (Custom).jpg',target_size=(224,224),)\n",
        "test_image = image.img_to_array(test_image)\n",
        "test_image = np.expand_dims(test_image, axis = 0)\n",
        "result=cnn.predict(test_image)\n"
      ],
      "execution_count": null,
      "outputs": []
    },
    {
      "cell_type": "markdown",
      "metadata": {
        "id": "38yHFOJ-2bh2"
      },
      "source": [
        ""
      ]
    },
    {
      "cell_type": "code",
      "metadata": {
        "colab": {
          "background_save": true,
          "base_uri": "https://localhost:8080/"
        },
        "id": "WhWigjhZ9cOm",
        "outputId": "1f131698-29f0-4cae-9676-404f33a8b1c6"
      },
      "source": [
        "train_set.class_indices        "
      ],
      "execution_count": null,
      "outputs": [
        {
          "data": {
            "text/plain": [
              "{'Die Back': 0, 'Powdery Mildew': 1, 'Red Rust': 2, 'Weevil': 3}"
            ]
          },
          "execution_count": null,
          "metadata": {},
          "output_type": "execute_result"
        }
      ]
    },
    {
      "cell_type": "code",
      "metadata": {
        "colab": {
          "background_save": true,
          "base_uri": "https://localhost:8080/"
        },
        "id": "F4rEB3Nv9fhG",
        "outputId": "22885f98-1f7d-4863-9995-7e11ea3ecc2f"
      },
      "source": [
        "print(result)"
      ],
      "execution_count": null,
      "outputs": [
        {
          "name": "stdout",
          "output_type": "stream",
          "text": [
            "[[0. 0. 1. 0.]]\n"
          ]
        }
      ]
    },
    {
      "cell_type": "code",
      "metadata": {
        "colab": {
          "background_save": true,
          "base_uri": "https://localhost:8080/"
        },
        "id": "LWxOvAoo9j22",
        "outputId": "69e7065c-3be4-4e27-d99c-b834d1c8efcc"
      },
      "source": [
        "if result[0][0]==1:\n",
        "  print('Die Back')\n",
        "elif result[0][1]==1:\n",
        "  print('Powdery Mildew')\n",
        "elif result[0][2]==1:\n",
        "  print('Red Rust')\n",
        "elif result[0][3]==1:  \n",
        "  print('Weevil')"
      ],
      "execution_count": null,
      "outputs": [
        {
          "name": "stdout",
          "output_type": "stream",
          "text": [
            "Red Rust\n"
          ]
        }
      ]
    },
    {
      "cell_type": "code",
      "metadata": {
        "colab": {
          "background_save": true,
          "base_uri": "https://localhost:8080/"
        },
        "id": "hsP_9s0dB8JP",
        "outputId": "d1ca52a4-0453-4322-c8e4-fc9ec56c1aa4"
      },
      "source": [
        "train_loss,train_acc=cnn.evaluate(train_set)"
      ],
      "execution_count": null,
      "outputs": [
        {
          "name": "stdout",
          "output_type": "stream",
          "text": [
            "104/104 [==============================] - 29s 276ms/step - loss: 0.0582 - accuracy: 0.9813\n"
          ]
        }
      ]
    },
    {
      "cell_type": "code",
      "metadata": {
        "colab": {
          "background_save": true
        },
        "id": "CmbkalqYDQpP",
        "outputId": "1d474580-faf9-4b29-e14c-eddf789e5979"
      },
      "source": [
        "validation_loss,val_acc =cnn.evaluate(test_set)"
      ],
      "execution_count": null,
      "outputs": [
        {
          "name": "stdout",
          "output_type": "stream",
          "text": [
            "45/45 [==============================] - 4s 82ms/step - loss: 1.1527 - accuracy: 0.8499\n"
          ]
        }
      ]
    },
    {
      "cell_type": "code",
      "metadata": {
        "colab": {
          "background_save": true
        },
        "id": "SzdEBI_9KD23",
        "outputId": "3c2aa5c2-a687-4b8f-b345-7d48ec1cc02f"
      },
      "source": [
        "print('Train_Acc:%.3f, val_Acc:%.3f'%(train_acc,val_acc))"
      ],
      "execution_count": null,
      "outputs": [
        {
          "name": "stdout",
          "output_type": "stream",
          "text": [
            "Train_Acc:0.981, val_Acc:0.850\n"
          ]
        }
      ]
    },
    {
      "cell_type": "code",
      "metadata": {
        "colab": {
          "background_save": true
        },
        "id": "g7mI2INaLu1v",
        "outputId": "c74d060a-3330-44fc-ea5b-f6d659778c14"
      },
      "source": [
        "print('Train_loss:%.3f, validation_loss:%.3f'%(train_loss,validation_loss))"
      ],
      "execution_count": null,
      "outputs": [
        {
          "name": "stdout",
          "output_type": "stream",
          "text": [
            "Train_loss:0.058, validation_loss:1.153\n"
          ]
        }
      ]
    },
    {
      "cell_type": "code",
      "metadata": {
        "colab": {
          "background_save": true
        },
        "id": "x3btVOtjQj0V"
      },
      "source": [
        "history.history?"
      ],
      "execution_count": null,
      "outputs": []
    },
    {
      "cell_type": "code",
      "metadata": {
        "colab": {
          "background_save": true
        },
        "id": "N1BYnU5XfGKa",
        "outputId": "4e96d945-717a-44b4-a025-6e03ec8c86cd"
      },
      "source": [
        "history.history.keys()"
      ],
      "execution_count": null,
      "outputs": [
        {
          "data": {
            "text/plain": [
              "dict_keys(['loss', 'accuracy', 'val_loss', 'val_accuracy'])"
            ]
          },
          "execution_count": null,
          "metadata": {},
          "output_type": "execute_result"
        }
      ]
    },
    {
      "cell_type": "markdown",
      "metadata": {
        "id": "W0NkvdVyU3qB"
      },
      "source": [
        "# **Train Accuracy**"
      ]
    },
    {
      "cell_type": "code",
      "metadata": {
        "id": "smBnjb7IfUvx"
      },
      "source": [
        "import matplotlib.pyplot as plt\n",
        "plt.plot(history.history['accuracy'])\n",
        "plt.title('model accuracy')\n",
        "plt.ylabel('accuracy')\n",
        "plt.xlabel('epoch')\n",
        "plt.legend(['train'],loc='upper left')\n",
        "plt.show()"
      ],
      "execution_count": null,
      "outputs": []
    },
    {
      "cell_type": "code",
      "metadata": {
        "id": "cby0JzHojj2q"
      },
      "source": [
        "import matplotlib.pyplot as plt \n",
        "plt.plot(history.history['loss'])\n",
        "plt.title('model loss')\n",
        "plt.ylabel('loss')\n",
        "plt.xlabel('epoch')\n",
        "plt.legend(['train'],loc='upper left')\n",
        "plt.show()"
      ],
      "execution_count": null,
      "outputs": []
    },
    {
      "cell_type": "code",
      "metadata": {
        "id": "TWCPt6vCEN5A"
      },
      "source": [
        "train_loss=history.history['loss']\n",
        "val_loss=history.history['val_loss']\n",
        "train_acc=history.history['accuracy']\n",
        "val_acc=history.history['val_accuracy']\n",
        "xc=range(20)\n",
        "print(xc)"
      ],
      "execution_count": null,
      "outputs": []
    },
    {
      "cell_type": "markdown",
      "metadata": {
        "id": "s4uisL8FIldA"
      },
      "source": [
        "# ***Train loss vs Validation loss***"
      ]
    },
    {
      "cell_type": "code",
      "metadata": {
        "id": "1fsecBTDIexF"
      },
      "source": [
        "\n",
        "plt.plot(xc,train_loss)\n",
        "plt.plot(xc,val_loss)\n",
        "plt.xlabel('num of epoch')\n",
        "plt.ylabel('loss')\n",
        "plt.title('Train loss vs Validation loss')\n",
        "plt.legend(['train','validation'])\n",
        "plt.show()\n"
      ],
      "execution_count": null,
      "outputs": []
    },
    {
      "cell_type": "markdown",
      "metadata": {
        "id": "Vw0BYxMKQXIf"
      },
      "source": [
        "# ***Train accuracy vs Validation accuracy***\n",
        "\n",
        "---\n",
        "\n"
      ]
    },
    {
      "cell_type": "code",
      "metadata": {
        "id": "NIw6oykGQVwZ"
      },
      "source": [
        "\n",
        "plt.plot(xc,train_acc)\n",
        "plt.plot(xc,val_acc)\n",
        "plt.xlabel('num of epoch')\n",
        "plt.ylabel('accuracy')\n",
        "plt.title('Train accuracy vs Validation accuracy')\n",
        "plt.legend(['train','validation'], loc=4)\n",
        "plt.show()\n"
      ],
      "execution_count": null,
      "outputs": []
    },
    {
      "cell_type": "markdown",
      "metadata": {
        "id": "OgXGasDhVhKJ"
      },
      "source": [
        "# **Precission,Recall,F1 score**"
      ]
    },
    {
      "cell_type": "code",
      "metadata": {
        "id": "e2Eoiq8f48vQ"
      },
      "source": [
        "pip install sklearn"
      ],
      "execution_count": null,
      "outputs": []
    },
    {
      "cell_type": "code",
      "metadata": {
        "id": "4x2P3ec_5e2Y"
      },
      "source": [
        "import sklearn"
      ],
      "execution_count": null,
      "outputs": []
    },
    {
      "cell_type": "code",
      "metadata": {
        "id": "kuzqb_fG5wK1"
      },
      "source": [
        "from sklearn.metrics import confusion_matrix\n",
        "from sklearn.metrics import classification_report\n",
        "from sklearn.metrics import plot_confusion_matrix\n",
        "from sklearn.metrics import plot_precision_recall_curve\n",
        "from sklearn.metrics import plot_roc_curve\n",
        "from sklearn.metrics import precision_recall_fscore_support\n",
        "\n"
      ],
      "execution_count": null,
      "outputs": []
    },
    {
      "cell_type": "code",
      "metadata": {
        "id": "bWZllT3X6cNG"
      },
      "source": [
        "target_names = []\n",
        "\n",
        "for key in train_set.class_indices:\n",
        "\n",
        "    target_names.append(key)\n",
        "\n",
        "\n",
        "print(target_names)"
      ],
      "execution_count": null,
      "outputs": []
    },
    {
      "cell_type": "code",
      "metadata": {
        "id": "YPFEQpaaVQff"
      },
      "source": [
        "\n",
        "\n",
        "Y_pred =cnn.predict(test_set)\n",
        "y_pred = np.argmax(Y_pred,axis=1)\n",
        "print('Confusion Matrix')\n",
        "cm=confusion_matrix(test_set.classes,y_pred)\n",
        "print(cm)\n",
        "plt.matshow(cm)\n"
      ],
      "execution_count": null,
      "outputs": []
    },
    {
      "cell_type": "code",
      "metadata": {
        "colab": {
          "background_save": true
        },
        "id": "EeMLzags9Nfn",
        "outputId": "fe91bdf4-e0f3-464b-ce81-b3cdce97eb3a"
      },
      "source": [
        "print(classification_report(test_set.classes, y_pred, target_names=target_names))"
      ],
      "execution_count": null,
      "outputs": [
        {
          "name": "stdout",
          "output_type": "stream",
          "text": [
            "                precision    recall  f1-score   support\n",
            "\n",
            "      Die Back       0.23      0.23      0.23       153\n",
            "Powdery Mildew       0.08      0.03      0.04        66\n",
            "      Red Rust       0.30      0.27      0.28       220\n",
            "        Weevil       0.37      0.45      0.41       267\n",
            "\n",
            "      accuracy                           0.31       706\n",
            "     macro avg       0.24      0.25      0.24       706\n",
            "  weighted avg       0.29      0.31      0.30       706\n",
            "\n"
          ]
        }
      ]
    },
    {
      "cell_type": "code",
      "metadata": {
        "id": "_eXk5oCnFEEx"
      },
      "source": [
        "figure=plt.figure(figsize=(8,8))\n"
      ],
      "execution_count": null,
      "outputs": []
    }
  ]
}