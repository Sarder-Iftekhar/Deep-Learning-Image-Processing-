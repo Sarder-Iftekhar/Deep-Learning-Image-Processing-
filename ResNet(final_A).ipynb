{
  "nbformat": 4,
  "nbformat_minor": 0,
  "metadata": {
    "colab": {
      "name": "ResNet(final_A).ipynb",
      "provenance": [],
      "authorship_tag": "ABX9TyONZP/YKhKUnXB9afTcs2mW",
      "include_colab_link": true
    },
    "kernelspec": {
      "name": "python3",
      "display_name": "Python 3"
    },
    "language_info": {
      "name": "python"
    },
    "accelerator": "GPU"
  },
  "cells": [
    {
      "cell_type": "markdown",
      "metadata": {
        "id": "view-in-github",
        "colab_type": "text"
      },
      "source": [
        "<a href=\"https://colab.research.google.com/github/Sarder-Iftekhar/Deep-Learning-Image-Processing-/blob/main/ResNet(final_A).ipynb\" target=\"_parent\"><img src=\"https://colab.research.google.com/assets/colab-badge.svg\" alt=\"Open In Colab\"/></a>"
      ]
    },
    {
      "cell_type": "code",
      "execution_count": null,
      "metadata": {
        "id": "E1DB6tf87tks",
        "colab": {
          "base_uri": "https://localhost:8080/"
        },
        "outputId": "0263ae3f-6653-4f9c-a978-a025b1c0bde4"
      },
      "outputs": [
        {
          "output_type": "stream",
          "name": "stdout",
          "text": [
            "Mounted at /content/drive\n"
          ]
        }
      ],
      "source": [
        "from google.colab import drive\n",
        "drive.mount('/content/drive')"
      ]
    },
    {
      "cell_type": "code",
      "source": [
        "import tensorflow as tf\n",
        "import numpy as np\n",
        "import matplotlib.pyplot as plt \n"
      ],
      "metadata": {
        "id": "qWASFOKg79pv"
      },
      "execution_count": null,
      "outputs": []
    },
    {
      "cell_type": "code",
      "source": [
        "import tensorflow as tf\n",
        "import os \n",
        "import numpy as np\n",
        "from tensorflow.keras.preprocessing.image import ImageDataGenerator"
      ],
      "metadata": {
        "id": "4v9-lAK479ta"
      },
      "execution_count": null,
      "outputs": []
    },
    {
      "cell_type": "code",
      "source": [
        "base_dir =  '/content/drive/MyDrive/Data_W_f'"
      ],
      "metadata": {
        "id": "Pr1KMmTL79xA"
      },
      "execution_count": null,
      "outputs": []
    },
    {
      "cell_type": "code",
      "source": [
        "IMAZE_SIZE = 224\n",
        "BATCH_SIZE = 128\n",
        "\n",
        "\n",
        "train_datagen = tf.keras.preprocessing.image.ImageDataGenerator(\n",
        "    rescale=1./255,\n",
        "    shear_range=0.2,\n",
        "     zoom_range=0.2,\n",
        "      rotation_range =40,\n",
        "    horizontal_flip=True,\n",
        "    validation_split=0.2)\n",
        "\n",
        "test_datagen =  tf.keras.preprocessing.image.ImageDataGenerator(\n",
        "    rescale=1./255,\n",
        "    validation_split=0.2)\n",
        "\n",
        "\n",
        "\n",
        "\n",
        "\n",
        "train_set =train_datagen.flow_from_directory(\n",
        "    base_dir,\n",
        "    target_size = (224,224),\n",
        "    batch_size = BATCH_SIZE,\n",
        "    subset = 'training',\n",
        "     class_mode='categorical' \n",
        "     \n",
        ")\n",
        "\n",
        "\n",
        "\n",
        "test_set = test_datagen.flow_from_directory(\n",
        "    base_dir,\n",
        "    target_size = (224,224),\n",
        "    batch_size=BATCH_SIZE,\n",
        "    subset = 'validation',\n",
        "    shuffle=False,\n",
        "    class_mode='categorical'\n",
        ")"
      ],
      "metadata": {
        "id": "SFh-l--g792B",
        "colab": {
          "base_uri": "https://localhost:8080/"
        },
        "outputId": "f2c8a121-2619-4b18-aa09-06015f7ae686"
      },
      "execution_count": null,
      "outputs": [
        {
          "output_type": "stream",
          "name": "stdout",
          "text": [
            "Found 3200 images belonging to 8 classes.\n",
            "Found 800 images belonging to 8 classes.\n"
          ]
        }
      ]
    },
    {
      "cell_type": "code",
      "source": [
        "#modify\n",
        "from tensorflow.keras.layers import Conv2D\n",
        "from tensorflow.keras.layers import Dense\n",
        "from tensorflow.keras.regularizers import l2"
      ],
      "metadata": {
        "id": "wSq68_BG796H"
      },
      "execution_count": null,
      "outputs": []
    },
    {
      "cell_type": "code",
      "source": [
        "from tensorflow.keras.layers import Input,Flatten,Dense\n",
        "from tensorflow.keras.models import Model\n",
        "from tensorflow.keras.applications.resnet50 import ResNet50\n",
        "from tensorflow.keras.models import Sequential \n",
        "from glob import glob\n"
      ],
      "metadata": {
        "id": "9dlg5zbP79-I"
      },
      "execution_count": null,
      "outputs": []
    },
    {
      "cell_type": "code",
      "source": [
        "IMAZE_SIZE = [224,224]\n",
        "resnet = ResNet50(input_shape=IMAZE_SIZE+[3],weights='imagenet',include_top=False)\n",
        "resnet.output\n"
      ],
      "metadata": {
        "id": "RQkZatyu7-Ba",
        "colab": {
          "base_uri": "https://localhost:8080/"
        },
        "outputId": "a64518f6-8b00-4688-e09e-284def4336c8"
      },
      "execution_count": null,
      "outputs": [
        {
          "output_type": "stream",
          "name": "stdout",
          "text": [
            "Downloading data from https://storage.googleapis.com/tensorflow/keras-applications/resnet/resnet50_weights_tf_dim_ordering_tf_kernels_notop.h5\n",
            "94773248/94765736 [==============================] - 0s 0us/step\n",
            "94781440/94765736 [==============================] - 0s 0us/step\n"
          ]
        },
        {
          "output_type": "execute_result",
          "data": {
            "text/plain": [
              "<KerasTensor: shape=(None, 7, 7, 2048) dtype=float32 (created by layer 'conv5_block3_out')>"
            ]
          },
          "metadata": {},
          "execution_count": 10
        }
      ]
    },
    {
      "cell_type": "code",
      "source": [
        "for layer in resnet.layers:\n",
        "   layer.trainable=False"
      ],
      "metadata": {
        "id": "IhBzxPr_7-Fa"
      },
      "execution_count": null,
      "outputs": []
    },
    {
      "cell_type": "code",
      "source": [
        "#folders=glob(\"/content/drive/MyDrive/mangoleaf/\")\n",
        "#print(len(folders))\n"
      ],
      "metadata": {
        "id": "HcmqXX_27-Mb",
        "colab": {
          "base_uri": "https://localhost:8080/"
        },
        "outputId": "bf411d2c-d752-4bcd-8932-7865789c42c7"
      },
      "execution_count": null,
      "outputs": [
        {
          "output_type": "stream",
          "name": "stdout",
          "text": [
            "1\n"
          ]
        }
      ]
    },
    {
      "cell_type": "code",
      "source": [
        "x = Flatten()(resnet.output)\n",
        "#prediction = Dense(9,kernel_regularizer=tf.keras.regularizers.l2(0.01),activation='softmax')(x)\n",
        "prediction = Dense(8,activation='softmax')(x)\n",
        "model = Model(inputs=resnet.input,outputs=prediction)\n",
        "#model.summary()"
      ],
      "metadata": {
        "id": "yj52Lztu7-Px"
      },
      "execution_count": null,
      "outputs": []
    },
    {
      "cell_type": "code",
      "source": [
        "model.compile(loss='categorical_crossentropy',optimizer ='adam',metrics=['accuracy'])                    "
      ],
      "metadata": {
        "id": "Jg8icdBJ7-Tu"
      },
      "execution_count": null,
      "outputs": []
    },
    {
      "cell_type": "code",
      "source": [
        "\n",
        "\n",
        "history=model.fit(train_set,steps_per_epoch=len(train_set),epochs=100,batch_size=128,validation_data=test_set,validation_steps=len(test_set))"
      ],
      "metadata": {
        "id": "4vcVaeAJ7-Z9",
        "colab": {
          "base_uri": "https://localhost:8080/"
        },
        "outputId": "a2197884-614d-44fb-ed3e-833ab36c8513"
      },
      "execution_count": null,
      "outputs": [
        {
          "output_type": "stream",
          "name": "stdout",
          "text": [
            "Epoch 1/100\n",
            "25/25 [==============================] - 1077s 43s/step - loss: 7.2293 - accuracy: 0.1816 - val_loss: 2.8837 - val_accuracy: 0.2525\n",
            "Epoch 2/100\n",
            "25/25 [==============================] - 45s 2s/step - loss: 2.0972 - accuracy: 0.3028 - val_loss: 1.9090 - val_accuracy: 0.3125\n",
            "Epoch 3/100\n",
            "25/25 [==============================] - 45s 2s/step - loss: 1.5818 - accuracy: 0.3806 - val_loss: 1.5487 - val_accuracy: 0.4062\n",
            "Epoch 4/100\n",
            "25/25 [==============================] - 45s 2s/step - loss: 1.4812 - accuracy: 0.4397 - val_loss: 1.4666 - val_accuracy: 0.4338\n",
            "Epoch 5/100\n",
            "25/25 [==============================] - 45s 2s/step - loss: 1.4174 - accuracy: 0.4472 - val_loss: 1.6261 - val_accuracy: 0.3925\n",
            "Epoch 6/100\n",
            "25/25 [==============================] - 45s 2s/step - loss: 1.3852 - accuracy: 0.4888 - val_loss: 1.4331 - val_accuracy: 0.4050\n",
            "Epoch 7/100\n",
            "25/25 [==============================] - 45s 2s/step - loss: 1.3461 - accuracy: 0.4762 - val_loss: 1.4316 - val_accuracy: 0.4225\n",
            "Epoch 8/100\n",
            "25/25 [==============================] - 46s 2s/step - loss: 1.2709 - accuracy: 0.5231 - val_loss: 1.3077 - val_accuracy: 0.5138\n",
            "Epoch 9/100\n",
            "25/25 [==============================] - 45s 2s/step - loss: 1.2507 - accuracy: 0.5228 - val_loss: 1.4404 - val_accuracy: 0.4162\n",
            "Epoch 10/100\n",
            "25/25 [==============================] - 45s 2s/step - loss: 1.3778 - accuracy: 0.4669 - val_loss: 1.3365 - val_accuracy: 0.4787\n",
            "Epoch 11/100\n",
            "25/25 [==============================] - 45s 2s/step - loss: 1.3134 - accuracy: 0.4978 - val_loss: 1.3749 - val_accuracy: 0.5038\n",
            "Epoch 12/100\n",
            "25/25 [==============================] - 45s 2s/step - loss: 1.2141 - accuracy: 0.5387 - val_loss: 1.1774 - val_accuracy: 0.6050\n",
            "Epoch 13/100\n",
            "25/25 [==============================] - 45s 2s/step - loss: 1.2280 - accuracy: 0.5544 - val_loss: 1.4216 - val_accuracy: 0.5150\n",
            "Epoch 14/100\n",
            "25/25 [==============================] - 46s 2s/step - loss: 1.1545 - accuracy: 0.5675 - val_loss: 1.1996 - val_accuracy: 0.5362\n",
            "Epoch 15/100\n",
            "25/25 [==============================] - 45s 2s/step - loss: 1.1279 - accuracy: 0.5653 - val_loss: 1.2561 - val_accuracy: 0.5875\n",
            "Epoch 16/100\n",
            "25/25 [==============================] - 45s 2s/step - loss: 1.1008 - accuracy: 0.5956 - val_loss: 1.1600 - val_accuracy: 0.6612\n",
            "Epoch 17/100\n",
            "25/25 [==============================] - 45s 2s/step - loss: 1.1164 - accuracy: 0.5894 - val_loss: 1.1802 - val_accuracy: 0.5575\n",
            "Epoch 18/100\n",
            "25/25 [==============================] - 45s 2s/step - loss: 1.0358 - accuracy: 0.6288 - val_loss: 1.1712 - val_accuracy: 0.5512\n",
            "Epoch 19/100\n",
            "25/25 [==============================] - 44s 2s/step - loss: 1.0237 - accuracy: 0.6153 - val_loss: 1.0505 - val_accuracy: 0.6450\n",
            "Epoch 20/100\n",
            "25/25 [==============================] - 44s 2s/step - loss: 1.0731 - accuracy: 0.5975 - val_loss: 1.2773 - val_accuracy: 0.4963\n",
            "Epoch 21/100\n",
            "25/25 [==============================] - 45s 2s/step - loss: 1.0512 - accuracy: 0.5991 - val_loss: 1.3534 - val_accuracy: 0.5125\n",
            "Epoch 22/100\n",
            "25/25 [==============================] - 45s 2s/step - loss: 1.0496 - accuracy: 0.6053 - val_loss: 1.1639 - val_accuracy: 0.6350\n",
            "Epoch 23/100\n",
            "25/25 [==============================] - 45s 2s/step - loss: 0.9629 - accuracy: 0.6456 - val_loss: 1.2838 - val_accuracy: 0.5562\n",
            "Epoch 24/100\n",
            "25/25 [==============================] - 45s 2s/step - loss: 1.0259 - accuracy: 0.6019 - val_loss: 1.2390 - val_accuracy: 0.5213\n",
            "Epoch 25/100\n",
            "25/25 [==============================] - 45s 2s/step - loss: 1.0017 - accuracy: 0.6225 - val_loss: 1.3237 - val_accuracy: 0.6025\n",
            "Epoch 26/100\n",
            "25/25 [==============================] - 44s 2s/step - loss: 1.1344 - accuracy: 0.6081 - val_loss: 1.1615 - val_accuracy: 0.6300\n",
            "Epoch 27/100\n",
            "25/25 [==============================] - 45s 2s/step - loss: 0.9270 - accuracy: 0.6597 - val_loss: 1.0911 - val_accuracy: 0.7000\n",
            "Epoch 28/100\n",
            "25/25 [==============================] - 45s 2s/step - loss: 0.8692 - accuracy: 0.7000 - val_loss: 1.1254 - val_accuracy: 0.6250\n",
            "Epoch 29/100\n",
            "25/25 [==============================] - 44s 2s/step - loss: 0.8751 - accuracy: 0.6862 - val_loss: 1.1020 - val_accuracy: 0.6488\n",
            "Epoch 30/100\n",
            "25/25 [==============================] - 45s 2s/step - loss: 0.8448 - accuracy: 0.7116 - val_loss: 1.0661 - val_accuracy: 0.6137\n",
            "Epoch 31/100\n",
            "25/25 [==============================] - 45s 2s/step - loss: 0.8239 - accuracy: 0.7163 - val_loss: 0.9792 - val_accuracy: 0.6812\n",
            "Epoch 32/100\n",
            "25/25 [==============================] - 45s 2s/step - loss: 0.8692 - accuracy: 0.6778 - val_loss: 1.0922 - val_accuracy: 0.5913\n",
            "Epoch 33/100\n",
            "25/25 [==============================] - 44s 2s/step - loss: 0.9086 - accuracy: 0.6762 - val_loss: 1.0736 - val_accuracy: 0.6787\n",
            "Epoch 34/100\n",
            "25/25 [==============================] - 44s 2s/step - loss: 0.8149 - accuracy: 0.7194 - val_loss: 0.9614 - val_accuracy: 0.6938\n",
            "Epoch 35/100\n",
            "25/25 [==============================] - 45s 2s/step - loss: 0.8889 - accuracy: 0.6766 - val_loss: 1.1619 - val_accuracy: 0.6125\n",
            "Epoch 36/100\n",
            "25/25 [==============================] - 45s 2s/step - loss: 0.8268 - accuracy: 0.7084 - val_loss: 1.0588 - val_accuracy: 0.7188\n",
            "Epoch 37/100\n",
            "25/25 [==============================] - 44s 2s/step - loss: 0.8487 - accuracy: 0.6894 - val_loss: 1.2605 - val_accuracy: 0.5875\n",
            "Epoch 38/100\n",
            "25/25 [==============================] - 45s 2s/step - loss: 0.9259 - accuracy: 0.6647 - val_loss: 0.9625 - val_accuracy: 0.6812\n",
            "Epoch 39/100\n",
            "25/25 [==============================] - 45s 2s/step - loss: 0.7902 - accuracy: 0.7147 - val_loss: 0.9274 - val_accuracy: 0.7000\n",
            "Epoch 40/100\n",
            "25/25 [==============================] - 46s 2s/step - loss: 0.7596 - accuracy: 0.7312 - val_loss: 1.0301 - val_accuracy: 0.6662\n",
            "Epoch 41/100\n",
            "25/25 [==============================] - 46s 2s/step - loss: 0.9429 - accuracy: 0.6562 - val_loss: 1.0494 - val_accuracy: 0.6625\n",
            "Epoch 42/100\n",
            "25/25 [==============================] - 46s 2s/step - loss: 0.8188 - accuracy: 0.7003 - val_loss: 0.9242 - val_accuracy: 0.7262\n",
            "Epoch 43/100\n",
            "25/25 [==============================] - 46s 2s/step - loss: 0.7896 - accuracy: 0.7212 - val_loss: 1.2551 - val_accuracy: 0.5725\n",
            "Epoch 44/100\n",
            "25/25 [==============================] - 45s 2s/step - loss: 0.8775 - accuracy: 0.6716 - val_loss: 0.9715 - val_accuracy: 0.6837\n",
            "Epoch 45/100\n",
            "25/25 [==============================] - 45s 2s/step - loss: 0.7492 - accuracy: 0.7372 - val_loss: 1.0145 - val_accuracy: 0.6612\n",
            "Epoch 46/100\n",
            "25/25 [==============================] - 45s 2s/step - loss: 0.7379 - accuracy: 0.7447 - val_loss: 0.8645 - val_accuracy: 0.7350\n",
            "Epoch 47/100\n",
            "25/25 [==============================] - 45s 2s/step - loss: 0.7042 - accuracy: 0.7638 - val_loss: 1.0842 - val_accuracy: 0.6475\n",
            "Epoch 48/100\n",
            "25/25 [==============================] - 46s 2s/step - loss: 0.7726 - accuracy: 0.7172 - val_loss: 1.0213 - val_accuracy: 0.6825\n",
            "Epoch 49/100\n",
            "25/25 [==============================] - 45s 2s/step - loss: 0.9202 - accuracy: 0.6634 - val_loss: 1.1605 - val_accuracy: 0.6137\n",
            "Epoch 50/100\n",
            "25/25 [==============================] - 45s 2s/step - loss: 0.7888 - accuracy: 0.7197 - val_loss: 0.9963 - val_accuracy: 0.7038\n",
            "Epoch 51/100\n",
            "25/25 [==============================] - 45s 2s/step - loss: 0.7938 - accuracy: 0.7191 - val_loss: 1.1650 - val_accuracy: 0.5938\n",
            "Epoch 52/100\n",
            "25/25 [==============================] - 45s 2s/step - loss: 0.7547 - accuracy: 0.7231 - val_loss: 0.9922 - val_accuracy: 0.6750\n",
            "Epoch 53/100\n",
            "25/25 [==============================] - 45s 2s/step - loss: 0.8023 - accuracy: 0.7103 - val_loss: 1.0128 - val_accuracy: 0.6425\n",
            "Epoch 54/100\n",
            "25/25 [==============================] - 45s 2s/step - loss: 0.8779 - accuracy: 0.6759 - val_loss: 1.0745 - val_accuracy: 0.6363\n",
            "Epoch 55/100\n",
            "25/25 [==============================] - 45s 2s/step - loss: 0.7516 - accuracy: 0.7306 - val_loss: 0.9849 - val_accuracy: 0.6600\n",
            "Epoch 56/100\n",
            "25/25 [==============================] - 44s 2s/step - loss: 0.7520 - accuracy: 0.7394 - val_loss: 1.0851 - val_accuracy: 0.7000\n",
            "Epoch 57/100\n",
            "25/25 [==============================] - 44s 2s/step - loss: 0.7831 - accuracy: 0.7319 - val_loss: 1.1282 - val_accuracy: 0.6812\n",
            "Epoch 58/100\n",
            "25/25 [==============================] - 44s 2s/step - loss: 0.7585 - accuracy: 0.7184 - val_loss: 1.0728 - val_accuracy: 0.6525\n",
            "Epoch 59/100\n",
            "25/25 [==============================] - 45s 2s/step - loss: 0.7807 - accuracy: 0.7141 - val_loss: 0.8458 - val_accuracy: 0.7462\n",
            "Epoch 60/100\n",
            "25/25 [==============================] - 45s 2s/step - loss: 0.7196 - accuracy: 0.7447 - val_loss: 0.8389 - val_accuracy: 0.7412\n",
            "Epoch 61/100\n",
            "25/25 [==============================] - 45s 2s/step - loss: 0.7326 - accuracy: 0.7397 - val_loss: 0.8807 - val_accuracy: 0.7150\n",
            "Epoch 62/100\n",
            "25/25 [==============================] - 45s 2s/step - loss: 0.6669 - accuracy: 0.7616 - val_loss: 0.9859 - val_accuracy: 0.6725\n",
            "Epoch 63/100\n",
            "25/25 [==============================] - 45s 2s/step - loss: 0.7083 - accuracy: 0.7584 - val_loss: 0.9143 - val_accuracy: 0.7237\n",
            "Epoch 64/100\n",
            "25/25 [==============================] - 45s 2s/step - loss: 0.6529 - accuracy: 0.7744 - val_loss: 0.9122 - val_accuracy: 0.7425\n",
            "Epoch 65/100\n",
            "25/25 [==============================] - 45s 2s/step - loss: 0.6636 - accuracy: 0.7622 - val_loss: 0.9945 - val_accuracy: 0.6750\n",
            "Epoch 66/100\n",
            "25/25 [==============================] - 46s 2s/step - loss: 0.6658 - accuracy: 0.7631 - val_loss: 0.9949 - val_accuracy: 0.6575\n",
            "Epoch 67/100\n",
            "25/25 [==============================] - 46s 2s/step - loss: 0.7542 - accuracy: 0.7362 - val_loss: 1.0261 - val_accuracy: 0.6913\n",
            "Epoch 68/100\n",
            "25/25 [==============================] - 45s 2s/step - loss: 0.6850 - accuracy: 0.7613 - val_loss: 0.9309 - val_accuracy: 0.7050\n",
            "Epoch 69/100\n",
            "25/25 [==============================] - 45s 2s/step - loss: 0.8017 - accuracy: 0.7019 - val_loss: 1.1030 - val_accuracy: 0.7113\n",
            "Epoch 70/100\n",
            "25/25 [==============================] - 45s 2s/step - loss: 0.6900 - accuracy: 0.7519 - val_loss: 0.9605 - val_accuracy: 0.6862\n",
            "Epoch 71/100\n",
            "25/25 [==============================] - 46s 2s/step - loss: 0.7318 - accuracy: 0.7297 - val_loss: 0.9604 - val_accuracy: 0.6737\n",
            "Epoch 72/100\n",
            "25/25 [==============================] - 45s 2s/step - loss: 0.7111 - accuracy: 0.7403 - val_loss: 1.0936 - val_accuracy: 0.6812\n",
            "Epoch 73/100\n",
            "25/25 [==============================] - 45s 2s/step - loss: 0.7582 - accuracy: 0.7284 - val_loss: 0.8895 - val_accuracy: 0.7138\n",
            "Epoch 74/100\n",
            "25/25 [==============================] - 46s 2s/step - loss: 0.7164 - accuracy: 0.7391 - val_loss: 1.0877 - val_accuracy: 0.6938\n",
            "Epoch 75/100\n",
            "25/25 [==============================] - 45s 2s/step - loss: 0.6961 - accuracy: 0.7412 - val_loss: 1.0112 - val_accuracy: 0.6662\n",
            "Epoch 76/100\n",
            "25/25 [==============================] - 45s 2s/step - loss: 0.6351 - accuracy: 0.7819 - val_loss: 0.9858 - val_accuracy: 0.7350\n",
            "Epoch 77/100\n",
            "25/25 [==============================] - 45s 2s/step - loss: 0.6303 - accuracy: 0.7809 - val_loss: 0.9409 - val_accuracy: 0.7150\n",
            "Epoch 78/100\n",
            "25/25 [==============================] - 45s 2s/step - loss: 0.6524 - accuracy: 0.7716 - val_loss: 0.8288 - val_accuracy: 0.7675\n",
            "Epoch 79/100\n",
            "25/25 [==============================] - 45s 2s/step - loss: 0.5794 - accuracy: 0.8034 - val_loss: 0.9987 - val_accuracy: 0.6787\n",
            "Epoch 80/100\n",
            "25/25 [==============================] - 45s 2s/step - loss: 0.7830 - accuracy: 0.7122 - val_loss: 0.9504 - val_accuracy: 0.7375\n",
            "Epoch 81/100\n",
            "25/25 [==============================] - 46s 2s/step - loss: 0.7995 - accuracy: 0.7141 - val_loss: 1.0101 - val_accuracy: 0.6737\n",
            "Epoch 82/100\n",
            "25/25 [==============================] - 45s 2s/step - loss: 0.6384 - accuracy: 0.7775 - val_loss: 1.0324 - val_accuracy: 0.6787\n",
            "Epoch 83/100\n",
            "25/25 [==============================] - 45s 2s/step - loss: 0.6478 - accuracy: 0.7741 - val_loss: 0.8938 - val_accuracy: 0.6850\n",
            "Epoch 84/100\n",
            "25/25 [==============================] - 45s 2s/step - loss: 0.5976 - accuracy: 0.7862 - val_loss: 1.0262 - val_accuracy: 0.6413\n",
            "Epoch 85/100\n",
            "25/25 [==============================] - 45s 2s/step - loss: 0.6565 - accuracy: 0.7672 - val_loss: 1.0393 - val_accuracy: 0.6700\n",
            "Epoch 86/100\n",
            "25/25 [==============================] - 45s 2s/step - loss: 0.6413 - accuracy: 0.7703 - val_loss: 0.8791 - val_accuracy: 0.7550\n",
            "Epoch 87/100\n",
            "25/25 [==============================] - 45s 2s/step - loss: 0.6043 - accuracy: 0.7887 - val_loss: 1.0939 - val_accuracy: 0.6750\n",
            "Epoch 88/100\n",
            "25/25 [==============================] - 46s 2s/step - loss: 0.6373 - accuracy: 0.7750 - val_loss: 0.8937 - val_accuracy: 0.7588\n",
            "Epoch 89/100\n",
            "25/25 [==============================] - 45s 2s/step - loss: 0.6568 - accuracy: 0.7522 - val_loss: 0.9589 - val_accuracy: 0.7325\n",
            "Epoch 90/100\n",
            "25/25 [==============================] - 45s 2s/step - loss: 0.6160 - accuracy: 0.7812 - val_loss: 0.9084 - val_accuracy: 0.7075\n",
            "Epoch 91/100\n",
            "25/25 [==============================] - 45s 2s/step - loss: 0.6504 - accuracy: 0.7669 - val_loss: 1.0998 - val_accuracy: 0.6350\n",
            "Epoch 92/100\n",
            "25/25 [==============================] - 46s 2s/step - loss: 0.6263 - accuracy: 0.7791 - val_loss: 0.8969 - val_accuracy: 0.7163\n",
            "Epoch 93/100\n",
            "25/25 [==============================] - 45s 2s/step - loss: 0.6629 - accuracy: 0.7600 - val_loss: 1.0370 - val_accuracy: 0.6600\n",
            "Epoch 94/100\n",
            "25/25 [==============================] - 45s 2s/step - loss: 0.7178 - accuracy: 0.7369 - val_loss: 1.3363 - val_accuracy: 0.5875\n",
            "Epoch 95/100\n",
            "25/25 [==============================] - 46s 2s/step - loss: 0.6431 - accuracy: 0.7738 - val_loss: 0.9882 - val_accuracy: 0.7013\n",
            "Epoch 96/100\n",
            "25/25 [==============================] - 45s 2s/step - loss: 0.6276 - accuracy: 0.7803 - val_loss: 0.8932 - val_accuracy: 0.7287\n",
            "Epoch 97/100\n",
            "25/25 [==============================] - 45s 2s/step - loss: 0.5657 - accuracy: 0.8056 - val_loss: 1.1300 - val_accuracy: 0.6575\n",
            "Epoch 98/100\n",
            "25/25 [==============================] - 45s 2s/step - loss: 0.6206 - accuracy: 0.7763 - val_loss: 0.9575 - val_accuracy: 0.6750\n",
            "Epoch 99/100\n",
            "25/25 [==============================] - 45s 2s/step - loss: 0.6994 - accuracy: 0.7425 - val_loss: 0.9764 - val_accuracy: 0.6900\n",
            "Epoch 100/100\n",
            "25/25 [==============================] - 45s 2s/step - loss: 0.6066 - accuracy: 0.7884 - val_loss: 0.8560 - val_accuracy: 0.7487\n"
          ]
        }
      ]
    },
    {
      "cell_type": "code",
      "source": [
        "model.save(\"MResNet50Withclass8.h5\")"
      ],
      "metadata": {
        "id": "vG2zUvOE7-d1",
        "colab": {
          "base_uri": "https://localhost:8080/"
        },
        "outputId": "b3f9bc53-02c4-4951-fe39-ac187280c9a3"
      },
      "execution_count": null,
      "outputs": [
        {
          "output_type": "stream",
          "name": "stderr",
          "text": [
            "/usr/local/lib/python3.7/dist-packages/keras/engine/functional.py:1410: CustomMaskWarning: Custom mask layers require a config and must override get_config. When loading, the custom mask layer must be passed to the custom_objects argument.\n",
            "  layer_config = serialize_layer_fn(layer)\n"
          ]
        }
      ]
    },
    {
      "cell_type": "code",
      "source": [
        "train_loss,train_acc=model.evaluate(train_set)"
      ],
      "metadata": {
        "id": "BXyuBDOQ7-hi",
        "colab": {
          "base_uri": "https://localhost:8080/"
        },
        "outputId": "eb92d056-e945-440a-d199-d035592fef21"
      },
      "execution_count": null,
      "outputs": [
        {
          "output_type": "stream",
          "name": "stdout",
          "text": [
            "25/25 [==============================] - 42s 2s/step - loss: 0.6322 - accuracy: 0.7747\n"
          ]
        }
      ]
    },
    {
      "cell_type": "code",
      "source": [
        "validation_loss,val_acc =model.evaluate(test_set)"
      ],
      "metadata": {
        "id": "zhdZsldw7-ku",
        "colab": {
          "base_uri": "https://localhost:8080/"
        },
        "outputId": "e589d45b-68f9-4abd-a315-17416a7c133b"
      },
      "execution_count": null,
      "outputs": [
        {
          "output_type": "stream",
          "name": "stdout",
          "text": [
            "7/7 [==============================] - 3s 386ms/step - loss: 0.8560 - accuracy: 0.7487\n"
          ]
        }
      ]
    },
    {
      "cell_type": "code",
      "source": [
        "import matplotlib.pyplot as plt\n",
        "plt.plot(history.history['accuracy'])\n",
        "plt.title('model accuracy')\n",
        "plt.ylabel('accuracy')\n",
        "plt.xlabel('epoch')\n",
        "plt.legend(['train'],loc='upper left')\n",
        "plt.show()"
      ],
      "metadata": {
        "id": "n5WntGmJ7-nz",
        "colab": {
          "base_uri": "https://localhost:8080/",
          "height": 295
        },
        "outputId": "46ae61b5-536b-4e2e-cc40-998f4513a98f"
      },
      "execution_count": null,
      "outputs": [
        {
          "output_type": "display_data",
          "data": {
            "image/png": "[encoded data removed]",
            "text/plain": [
              "<Figure size 432x288 with 1 Axes>"
            ]
          },
          "metadata": {
            "needs_background": "light"
          }
        }
      ]
    },
    {
      "cell_type": "code",
      "source": [
        "import matplotlib.pyplot as plt \n",
        "plt.plot(history.history['loss'])\n",
        "plt.title('model loss')\n",
        "plt.ylabel('loss')\n",
        "plt.xlabel('epoch')\n",
        "plt.legend(['train'],loc='upper left')\n",
        "plt.show()\n",
        "plt.savefig('trainvsvalidloss.png')"
      ],
      "metadata": {
        "id": "iIDGShcp7-rR",
        "colab": {
          "base_uri": "https://localhost:8080/",
          "height": 312
        },
        "outputId": "b97f7e90-d4f6-4042-9974-18708e65f204"
      },
      "execution_count": null,
      "outputs": [
        {
          "output_type": "display_data",
          "data": {
            "image/png": "[encoded data removed]",
            "text/plain": [
              "<Figure size 432x288 with 1 Axes>"
            ]
          },
          "metadata": {
            "needs_background": "light"
          }
        },
        {
          "output_type": "display_data",
          "data": {
            "text/plain": [
              "<Figure size 432x288 with 0 Axes>"
            ]
          },
          "metadata": {}
        }
      ]
    },
    {
      "cell_type": "code",
      "source": [
        "train_loss=history.history['loss']\n",
        "val_loss=history.history['val_loss']\n",
        "train_acc=history.history['accuracy']\n",
        "val_acc=history.history['val_accuracy']\n",
        "xc=range(100)\n",
        "print(xc)"
      ],
      "metadata": {
        "colab": {
          "base_uri": "https://localhost:8080/"
        },
        "id": "wT07OQc-AWap",
        "outputId": "ed747d8d-0774-4233-9c6b-8fb13c248509"
      },
      "execution_count": null,
      "outputs": [
        {
          "output_type": "stream",
          "name": "stdout",
          "text": [
            "range(0, 100)\n"
          ]
        }
      ]
    },
    {
      "cell_type": "code",
      "source": [
        "\n",
        "plt.plot(xc,train_loss)\n",
        "plt.plot(xc,val_loss)\n",
        "plt.xlabel('num of epoch')\n",
        "plt.ylabel('loss')\n",
        "plt.title('Train loss vs Validation loss')\n",
        "plt.legend(['train','validation'])\n",
        "plt.show()\n",
        "\n",
        "plt.savefig('trainvsvalidloss.png')"
      ],
      "metadata": {
        "id": "fSWWvoJH7-tk",
        "colab": {
          "base_uri": "https://localhost:8080/",
          "height": 312
        },
        "outputId": "0bfb249e-4b97-40d5-927c-d63f50ece74f"
      },
      "execution_count": null,
      "outputs": [
        {
          "output_type": "display_data",
          "data": {
            "image/png": "[encoded data removed]",
            "text/plain": [
              "<Figure size 432x288 with 1 Axes>"
            ]
          },
          "metadata": {
            "needs_background": "light"
          }
        },
        {
          "output_type": "display_data",
          "data": {
            "text/plain": [
              "<Figure size 432x288 with 0 Axes>"
            ]
          },
          "metadata": {}
        }
      ]
    },
    {
      "cell_type": "code",
      "source": [
        "\n",
        "plt.plot(xc,train_loss)\n",
        "plt.plot(xc,val_loss)\n",
        "plt.xlabel('num of epoch')\n",
        "plt.ylabel('loss')\n",
        "plt.title('Train loss vs Validation loss')\n",
        "plt.legend(['train','validation'])\n",
        "plt.show()\n",
        "\n",
        "plt.savefig('trainvsvalidloss.png')"
      ],
      "metadata": {
        "id": "y3kBmoUc7-wo",
        "colab": {
          "base_uri": "https://localhost:8080/",
          "height": 312
        },
        "outputId": "439ba118-3891-46be-e513-172ce20f818c"
      },
      "execution_count": null,
      "outputs": [
        {
          "output_type": "display_data",
          "data": {
            "image/png": "[encoded data removed]",
            "text/plain": [
              "<Figure size 432x288 with 1 Axes>"
            ]
          },
          "metadata": {
            "needs_background": "light"
          }
        },
        {
          "output_type": "display_data",
          "data": {
            "text/plain": [
              "<Figure size 432x288 with 0 Axes>"
            ]
          },
          "metadata": {}
        }
      ]
    },
    {
      "cell_type": "code",
      "source": [
        "\n",
        "plt.plot(xc,train_acc)\n",
        "plt.plot(xc,val_acc)\n",
        "plt.xlabel('num of epoch')\n",
        "plt.ylabel('accuracy')\n",
        "plt.title('Train accuracy vs Validation accuracy')\n",
        "plt.legend(['train','validation'], loc=4)\n",
        "plt.savefig('trainvsvalidaccu.png')\n",
        "plt.savefig('trainvsvalidacc.pdf')\n",
        "plt.show()\n"
      ],
      "metadata": {
        "colab": {
          "base_uri": "https://localhost:8080/",
          "height": 295
        },
        "id": "5QaMdAmJ9Auf",
        "outputId": "3d2ab170-ca9c-49d8-a765-d727ba23eca0"
      },
      "execution_count": null,
      "outputs": [
        {
          "output_type": "display_data",
          "data": {
            "image/png": "[encoded data removed]",
            "text/plain": [
              "<Figure size 432x288 with 1 Axes>"
            ]
          },
          "metadata": {
            "needs_background": "light"
          }
        }
      ]
    },
    {
      "cell_type": "code",
      "source": [
        "pip install sklearn"
      ],
      "metadata": {
        "id": "Axa_lyZ67-z8",
        "colab": {
          "base_uri": "https://localhost:8080/"
        },
        "outputId": "e41f3fd6-1523-4a4c-bfdb-907225e60195"
      },
      "execution_count": null,
      "outputs": [
        {
          "output_type": "stream",
          "name": "stdout",
          "text": [
            "Requirement already satisfied: sklearn in /usr/local/lib/python3.7/dist-packages (0.0)\n",
            "Requirement already satisfied: scikit-learn in /usr/local/lib/python3.7/dist-packages (from sklearn) (1.0.2)\n",
            "Requirement already satisfied: scipy>=1.1.0 in /usr/local/lib/python3.7/dist-packages (from scikit-learn->sklearn) (1.4.1)\n",
            "Requirement already satisfied: threadpoolctl>=2.0.0 in /usr/local/lib/python3.7/dist-packages (from scikit-learn->sklearn) (3.0.0)\n",
            "Requirement already satisfied: joblib>=0.11 in /usr/local/lib/python3.7/dist-packages (from scikit-learn->sklearn) (1.1.0)\n",
            "Requirement already satisfied: numpy>=1.14.6 in /usr/local/lib/python3.7/dist-packages (from scikit-learn->sklearn) (1.19.5)\n"
          ]
        }
      ]
    },
    {
      "cell_type": "code",
      "source": [
        "import sklearn"
      ],
      "metadata": {
        "id": "an_GOPG-7-33"
      },
      "execution_count": null,
      "outputs": []
    },
    {
      "cell_type": "code",
      "source": [
        "from sklearn.metrics import confusion_matrix\n",
        "from sklearn.metrics import classification_report\n",
        "from sklearn.metrics import plot_confusion_matrix\n",
        "from sklearn.metrics import plot_precision_recall_curve\n",
        "from sklearn.metrics import plot_roc_curve\n",
        "from sklearn.metrics import precision_recall_fscore_support\n"
      ],
      "metadata": {
        "id": "QhW3PDmW7-7z"
      },
      "execution_count": null,
      "outputs": []
    },
    {
      "cell_type": "code",
      "source": [
        "target_names = []\n",
        "\n",
        "for key in train_set.class_indices:\n",
        "\n",
        "    target_names.append(key)\n",
        "\n",
        "\n",
        "print(target_names)"
      ],
      "metadata": {
        "colab": {
          "base_uri": "https://localhost:8080/"
        },
        "id": "KyREnznKAv0I",
        "outputId": "53f7c8e2-abee-44c8-f5fa-3f09bdb33d61"
      },
      "execution_count": null,
      "outputs": [
        {
          "output_type": "stream",
          "name": "stdout",
          "text": [
            "['Anthracnose', 'Bacterial Canker', 'Cutting Weevil', 'Die Back', 'Gall Midge', 'Healthy', 'Powdery Mildew', 'Sooty Mould']\n"
          ]
        }
      ]
    },
    {
      "cell_type": "code",
      "source": [
        "import numpy as np\n",
        "from matplotlib import pyplot as plt"
      ],
      "metadata": {
        "id": "wp94w2XxAymX"
      },
      "execution_count": null,
      "outputs": []
    },
    {
      "cell_type": "code",
      "source": [
        "\n",
        "\n",
        "Y_pred =model.predict(test_set)\n",
        "y_pred = np.argmax(Y_pred,axis=1)\n",
        "print('Confusion Matrix')\n",
        "cm=confusion_matrix(test_set.classes,y_pred)\n",
        "print(cm)\n",
        "plt.matshow(cm)\n"
      ],
      "metadata": {
        "colab": {
          "base_uri": "https://localhost:8080/",
          "height": 449
        },
        "id": "8ct2bCwTAysK",
        "outputId": "852efe26-3e19-4f21-b48f-3fb663777beb"
      },
      "execution_count": null,
      "outputs": [
        {
          "output_type": "stream",
          "name": "stdout",
          "text": [
            "Confusion Matrix\n",
            "[[45 25  0  3 11  5  9  2]\n",
            " [ 1 88  0  0  2  0  2  7]\n",
            " [ 0 12 88  0  0  0  0  0]\n",
            " [ 8  0  0 91  0  0  1  0]\n",
            " [ 5  8  0  0 64  3 18  2]\n",
            " [ 3  0  0  0  3 82 12  0]\n",
            " [ 1  0  0  0  0  0 97  2]\n",
            " [ 1 14  0  0  0  0 41 44]]\n"
          ]
        },
        {
          "output_type": "execute_result",
          "data": {
            "text/plain": [
              "<matplotlib.image.AxesImage at 0x7f265612dcd0>"
            ]
          },
          "metadata": {},
          "execution_count": 30
        },
        {
          "output_type": "display_data",
          "data": {
            "image/png": "[encoded data removed]",
            "text/plain": [
              "<Figure size 288x288 with 1 Axes>"
            ]
          },
          "metadata": {
            "needs_background": "light"
          }
        }
      ]
    },
    {
      "cell_type": "code",
      "source": [
        "print(classification_report(test_set.classes, y_pred, target_names=target_names))"
      ],
      "metadata": {
        "colab": {
          "base_uri": "https://localhost:8080/"
        },
        "id": "JNMO6EYBAywQ",
        "outputId": "8e166e95-1e52-4966-c34e-3d106da0db01"
      },
      "execution_count": null,
      "outputs": [
        {
          "output_type": "stream",
          "name": "stdout",
          "text": [
            "                  precision    recall  f1-score   support\n",
            "\n",
            "     Anthracnose       0.70      0.45      0.55       100\n",
            "Bacterial Canker       0.60      0.88      0.71       100\n",
            "  Cutting Weevil       1.00      0.88      0.94       100\n",
            "        Die Back       0.97      0.91      0.94       100\n",
            "      Gall Midge       0.80      0.64      0.71       100\n",
            "         Healthy       0.91      0.82      0.86       100\n",
            "  Powdery Mildew       0.54      0.97      0.69       100\n",
            "     Sooty Mould       0.77      0.44      0.56       100\n",
            "\n",
            "        accuracy                           0.75       800\n",
            "       macro avg       0.79      0.75      0.75       800\n",
            "    weighted avg       0.79      0.75      0.75       800\n",
            "\n"
          ]
        }
      ]
    },
    {
      "cell_type": "code",
      "source": [
        "import numpy as np\n",
        "from matplotlib import pyplot as plt\n",
        "\n",
        "def plot_confusion_matrix(cm, target_names, title='Confusion matrix', cmap=plt.cm.Blues):\n",
        "    plt.imshow(cm, interpolation='nearest', cmap=cmap)\n",
        "    plt.title(title)\n",
        "    plt.colorbar()\n",
        "    tick_marks = np.arange(len(target_names))\n",
        "    plt.xticks(tick_marks, target_names, rotation=60)\n",
        "    plt.yticks(tick_marks, target_names)\n",
        "    plt.tight_layout()\n",
        "\n",
        "    width,height =cm.shape\n",
        "    \n",
        "\n",
        "    for x in range(width):\n",
        "        for y in range(height):\n",
        "            plt.annotate(str(cm[x][y]), xy=(y, x), \n",
        "                        horizontalalignment='center',\n",
        "                        verticalalignment='center')\n",
        "    plt.ylabel('True label')\n",
        "    plt.xlabel('Predicted label')\n",
        "\n",
        "\n",
        "plot_confusion_matrix(cm,target_names)\n",
        "\n",
        "plt.savefig('confusionMatrix.png')\n",
        "plt.savefig('confusionMatrix.pdf')"
      ],
      "metadata": {
        "colab": {
          "base_uri": "https://localhost:8080/",
          "height": 311
        },
        "id": "h8heJwmJA93H",
        "outputId": "f8dc16e4-03ab-4f84-f43a-a29c057bd893"
      },
      "execution_count": null,
      "outputs": [
        {
          "output_type": "display_data",
          "data": {
            "image/png": "[encoded data removed]",
            "text/plain": [
              "<Figure size 432x288 with 2 Axes>"
            ]
          },
          "metadata": {
            "needs_background": "light"
          }
        }
      ]
    }
  ]
}